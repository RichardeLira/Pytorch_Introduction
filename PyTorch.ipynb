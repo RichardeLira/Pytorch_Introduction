{
 "cells": [
  {
   "cell_type": "markdown",
   "metadata": {},
   "source": [
    "## PyTorch Introduction "
   ]
  },
  {
   "cell_type": "code",
   "execution_count": 1,
   "metadata": {},
   "outputs": [],
   "source": [
    "import torch\n",
    "import numpy as np\n",
    "from torch import nn \n"
   ]
  },
  {
   "cell_type": "markdown",
   "metadata": {},
   "source": [
    "> How to create a Neural Network ?"
   ]
  },
  {
   "cell_type": "code",
   "execution_count": 2,
   "metadata": {},
   "outputs": [
    {
     "ename": "SyntaxError",
     "evalue": "incomplete input (152698812.py, line 2)",
     "output_type": "error",
     "traceback": [
      "\u001b[1;36m  Cell \u001b[1;32mIn [2], line 2\u001b[1;36m\u001b[0m\n\u001b[1;33m    def __init__(self) :\u001b[0m\n\u001b[1;37m                        ^\u001b[0m\n\u001b[1;31mSyntaxError\u001b[0m\u001b[1;31m:\u001b[0m incomplete input\n"
     ]
    }
   ],
   "source": [
    "class LineNetowrk(nn.Module):\n",
    "    def __init__(self):\n",
    "        super().__init__()\n",
    "        # Starting the neuron\n",
    "        self.layers = nn.Sequential(\n",
    "            nn.Linear(1,1)\n",
    "        )\n",
    "\n",
    "    def forward(self,x): \n",
    "        return self.layers(x)\n",
    "        "
   ]
  },
  {
   "cell_type": "markdown",
   "metadata": {},
   "source": [
    "> How to train a Neural Network ?"
   ]
  },
  {
   "cell_type": "markdown",
   "metadata": {},
   "source": [
    "> Creating a database"
   ]
  },
  {
   "cell_type": "code",
   "execution_count": null,
   "metadata": {},
   "outputs": [],
   "source": [
    "from torch.utils.data import Dataset, dataloader\n",
    "import torch.distributions.uniform as urandom\n",
    "\n",
    "class AlgebraicDataset(Dataset):\n",
    "    def __init__(self, f, interval, nsamples):\n",
    "        X = urandom.Uniform(interval[0], interval[1]).sample([nsamples])\n",
    "        self.data = [(x,f(x)) for x in X]\n",
    "\n",
    "    def __len__(self):\n",
    "        return len(self.data) \n",
    "\n",
    "    def __getitem__(self,idx):\n",
    "        return self.data[idx]   \n"
   ]
  },
  {
   "cell_type": "markdown",
   "metadata": {},
   "source": [
    "> Create Training Dataset  "
   ]
  },
  {
   "cell_type": "code",
   "execution_count": null,
   "metadata": {},
   "outputs": [],
   "source": [
    "linear = lambda x: 2*x + 3  \n",
    "interval = (-10, 10)\n",
    "train_n_samples = 1000 \n",
    "test_n_samples = 100"
   ]
  },
  {
   "cell_type": "code",
   "execution_count": null,
   "metadata": {},
   "outputs": [],
   "source": [
    "train_dataset  = AlgebraicDataset(linear,interval,train_n_samples)\n",
    "test_dataset  = AlgebraicDataset(linear,interval,test_n_samples)\n",
    "\n",
    "train_Dataloader = dataloader(train_dataset,batch_size=train_n_samples,shuffle=True)\n",
    "test_Dataloader = dataloader(train_dataset,batch_size=test_n_samples,shuffle=True)"
   ]
  },
  {
   "cell_type": "markdown",
   "metadata": {},
   "source": [
    "> Hyperparameter "
   ]
  },
  {
   "cell_type": "code",
   "execution_count": null,
   "metadata": {},
   "outputs": [],
   "source": [
    "# Loss function \n",
    "# Mean Squred error\n",
    "lossfunc = nn.MSELoss()"
   ]
  }
 ],
 "metadata": {
  "kernelspec": {
   "display_name": "Python 3.10.7 64-bit",
   "language": "python",
   "name": "python3"
  },
  "language_info": {
   "codemirror_mode": {
    "name": "ipython",
    "version": 3
   },
   "file_extension": ".py",
   "mimetype": "text/x-python",
   "name": "python",
   "nbconvert_exporter": "python",
   "pygments_lexer": "ipython3",
   "version": "3.10.7"
  },
  "orig_nbformat": 4,
  "vscode": {
   "interpreter": {
    "hash": "1a7892181bc6a8b5934ec9e9bbb9c30c52104e5f153701f05479b274bedc3f5b"
   }
  }
 },
 "nbformat": 4,
 "nbformat_minor": 2
}

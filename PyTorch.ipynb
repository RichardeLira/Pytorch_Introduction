{
 "cells": [
  {
   "cell_type": "markdown",
   "metadata": {},
   "source": [
    "## PyTorch Introduction "
   ]
  },
  {
   "cell_type": "code",
   "execution_count": 1,
   "metadata": {},
   "outputs": [],
   "source": [
    "import torch\n",
    "import numpy as np\n",
    "from torch import nn \n"
   ]
  },
  {
   "cell_type": "markdown",
   "metadata": {},
   "source": [
    "> How to create a Neural Network ?"
   ]
  },
  {
   "cell_type": "code",
   "execution_count": 2,
   "metadata": {},
   "outputs": [],
   "source": [
    "class LineNetowrk(nn.Module):\n",
    "    def __init__(self):\n",
    "        super().__init__()\n",
    "        # Starting the neuron\n",
    "        self.layers = nn.Sequential(\n",
    "            nn.Linear(1,1)\n",
    "        )\n",
    "\n",
    "    def forward(self,x): \n",
    "        return self.layers(x)\n",
    "        "
   ]
  },
  {
   "cell_type": "markdown",
   "metadata": {},
   "source": [
    "> How to train a Neural Network ?"
   ]
  },
  {
   "cell_type": "markdown",
   "metadata": {},
   "source": [
    "> Creating a database"
   ]
  },
  {
   "cell_type": "code",
   "execution_count": 3,
   "metadata": {},
   "outputs": [],
   "source": [
    "from torch.utils.data import Dataset, dataloader\n",
    "import torch.distributions.uniform as urandom\n",
    "\n",
    "class AlgebraicDataset(Dataset):\n",
    "    def __init__(self, f, interval, nsamples):\n",
    "        X = urandom.Uniform(interval[0], interval[1]).sample([nsamples])\n",
    "        self.data = [(x,f(x)) for x in X]\n",
    "\n",
    "    def __len__(self):\n",
    "        return len(self.data) \n",
    "\n",
    "    def __getitem__(self,idx):\n",
    "        return self.data[idx]   \n"
   ]
  },
  {
   "cell_type": "markdown",
   "metadata": {},
   "source": [
    "> Create Training Dataset  "
   ]
  },
  {
   "cell_type": "code",
   "execution_count": 4,
   "metadata": {},
   "outputs": [],
   "source": [
    "linear = lambda x: 2*x + 3  \n",
    "interval = (-10, 10)\n",
    "train_n_samples = 1000 \n",
    "test_n_samples = 100"
   ]
  },
  {
   "cell_type": "code",
   "execution_count": 5,
   "metadata": {},
   "outputs": [],
   "source": [
    "train_dataset  = AlgebraicDataset(linear,interval,train_n_samples)\n",
    "test_dataset  = AlgebraicDataset(linear,interval,test_n_samples)\n",
    "\n",
    "train_Dataloader = dataloader.DataLoader(train_dataset,batch_size=train_n_samples,shuffle=True)\n",
    "test_Dataloader = dataloader.DataLoader(train_dataset,batch_size=test_n_samples,shuffle=True)"
   ]
  },
  {
   "cell_type": "markdown",
   "metadata": {},
   "source": [
    "> Hyperparameter "
   ]
  },
  {
   "cell_type": "code",
   "execution_count": 7,
   "metadata": {},
   "outputs": [
    {
     "name": "stdout",
     "output_type": "stream",
     "text": [
      "Gpu is available cuda\n"
     ]
    }
   ],
   "source": [
    "device = \"cuda\" if torch.cuda.is_available() else \"cpu\"\n",
    "print(f\"Gpu is available: {device}\")"
   ]
  },
  {
   "cell_type": "code",
   "execution_count": 8,
   "metadata": {},
   "outputs": [],
   "source": [
    "model = LineNetowrk().to(device)"
   ]
  },
  {
   "cell_type": "code",
   "execution_count": 9,
   "metadata": {},
   "outputs": [],
   "source": [
    "# Loss function \n",
    "# Mean Squred error\n",
    "from pickletools import optimize\n",
    "\n",
    "lossfunc = nn.MSELoss()\n",
    "# SGD = Stochastic Gradient Descent\n",
    "optimize = torch.optim.SGD(model.parameters(), lr=1e-3)"
   ]
  },
  {
   "cell_type": "markdown",
   "metadata": {},
   "source": [
    "> Train Model"
   ]
  },
  {
   "cell_type": "code",
   "execution_count": null,
   "metadata": {},
   "outputs": [],
   "source": [
    "def train(model,dataloader,lossfunc,optimize): \n",
    "    model.train()\n",
    "    cumloss = 0.0\n",
    "    for X,y in dataloader:\n",
    "        # Putting the data on device \n",
    "        X = X.unsqueeze(1).float().to(device) \n",
    "        y = y.unsqueeze(1).float().to(device)\n",
    "\n",
    "        pred = model(X)\n",
    "        loss = lossfunc(pred,y)\n",
    "\n",
    "        # Clear the gradient accumulated\n",
    "        optimize.zero_grad()\n",
    "        # Compute gradient\n",
    "        loss.backward()\n",
    "        # Walking in the gradient\n",
    "        optimize.step()\n",
    "        # Loss is a tensor \n",
    "        cumloss += loss.item()\n",
    "\n",
    "    return cumloss/len(dataloader)"
   ]
  },
  {
   "cell_type": "markdown",
   "metadata": {},
   "source": [
    "> Test model"
   ]
  },
  {
   "cell_type": "code",
   "execution_count": null,
   "metadata": {},
   "outputs": [],
   "source": [
    "def train(model,dataloader,lossfunc,optimize): \n",
    "    model.eval()\n",
    "    cumloss = 0.0\n",
    "    with torch.no_grad(): \n",
    "\n",
    "        for X,y in dataloader:\n",
    "            # Putting the data on device \n",
    "            X = X.unsqueeze(1).float().to(device) \n",
    "            y = y.unsqueeze(1).float().to(device)\n",
    "\n",
    "            pred = model(X)\n",
    "            loss = lossfunc(pred,y)\n",
    "\n",
    "            # Loss is a tensor \n",
    "            cumloss += loss.item()\n",
    "\n",
    "    return cumloss/len(dataloader)"
   ]
  },
  {
   "cell_type": "markdown",
   "metadata": {},
   "source": []
  }
 ],
 "metadata": {
  "kernelspec": {
   "display_name": "Python 3.10.7 64-bit",
   "language": "python",
   "name": "python3"
  },
  "language_info": {
   "codemirror_mode": {
    "name": "ipython",
    "version": 3
   },
   "file_extension": ".py",
   "mimetype": "text/x-python",
   "name": "python",
   "nbconvert_exporter": "python",
   "pygments_lexer": "ipython3",
   "version": "3.10.7"
  },
  "orig_nbformat": 4,
  "vscode": {
   "interpreter": {
    "hash": "1a7892181bc6a8b5934ec9e9bbb9c30c52104e5f153701f05479b274bedc3f5b"
   }
  }
 },
 "nbformat": 4,
 "nbformat_minor": 2
}
